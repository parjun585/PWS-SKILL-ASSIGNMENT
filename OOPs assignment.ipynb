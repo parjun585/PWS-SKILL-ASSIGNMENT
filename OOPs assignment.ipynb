{
 "cells": [
  {
   "cell_type": "code",
   "execution_count": 2,
   "id": "824bb553-8af1-4ef7-8e13-c45891758b62",
   "metadata": {},
   "outputs": [],
   "source": [
    "Assignment: 5th feb 2023"
   ]
  },
  {
   "cell_type": "code",
   "execution_count": 4,
   "id": "e4fad2a5-4f4d-4f2e-a2d1-3cd8c47e8cd3",
   "metadata": {},
   "outputs": [],
   "source": [
    "1. Explain Class and Object with respect to Object-Oriented Programming. Give a suitable example."
   ]
  },
  {
   "cell_type": "code",
   "execution_count": 8,
   "id": "161e62d2-4171-40d7-98e0-8faa5e985dc1",
   "metadata": {},
   "outputs": [
    {
     "data": {
      "text/plain": [
       "('Arjun', 24)"
      ]
     },
     "execution_count": 8,
     "metadata": {},
     "output_type": "execute_result"
    }
   ],
   "source": [
    "#Class is a blueprint for creating various objects that can be used to store information or other data.\n",
    "#Object is an instance of the class and objects represent real-world entities and can interact with each other.\n",
    "\n",
    "class test:        #test is a class here \n",
    "    def __init__(self,name,age):\n",
    "        self.name=name\n",
    "        self.age=age\n",
    "    def answer(self):\n",
    "        return self.name, self.age\n",
    "    \n",
    "#object can be created as following              \n",
    "arjun=test('Arjun',24)\n",
    "arjun.answer()\n",
    "        \n"
   ]
  },
  {
   "cell_type": "code",
   "execution_count": 10,
   "id": "f807e97b-9b6b-45b8-ae00-97b78cf58be6",
   "metadata": {},
   "outputs": [],
   "source": [
    "2. Name the four pillars of OOPs.\n",
    "Encapsulation, Polymorphism, Inheritance and Abstraction can be considered as the pillars of the OOPs."
   ]
  },
  {
   "cell_type": "code",
   "execution_count": 11,
   "id": "ea6641bc-24fb-4963-9ab1-be9c829935da",
   "metadata": {},
   "outputs": [],
   "source": [
    "# 3. Explain why the __init__() function is used. Give a suitable example.\n",
    "\n",
    "# __init__() is used called after the initialization of a class also known as \"intializer\" or \"constructor\"\n",
    "\n",
    "class test:        #test is a class here \n",
    "    def __init__(self,name,age):\n",
    "        self.name=name\n",
    "        self.age=age\n",
    "    def answer(self):\n",
    "        return self.name, self.age\n",
    "    \n",
    "#object can be created as following              \n",
    "arjun=test('Arjun',24)\n",
    "arjun.answer()"
   ]
  },
  {
   "cell_type": "code",
   "execution_count": 1,
   "id": "366c884b-070b-44f8-a22f-454299452e52",
   "metadata": {},
   "outputs": [
    {
     "name": "stdout",
     "output_type": "stream",
     "text": [
      "This method belongs to an instance.\n"
     ]
    }
   ],
   "source": [
    "# 4 Why self is used in OOPs?\n",
    "#Ans_ :      self is used as an instance for the object that needs to be operated, which allows them to acess and manipulate\n",
    " # the object's attribute or change them, helps to bind the arguement to its attributes.\n",
    "class MyClass:\n",
    "    def my_method(self):\n",
    "        print(\"This method belongs to an instance.\")\n",
    "\n",
    "obj = MyClass()\n",
    "obj.my_method()  # Method call using self\n",
    "\n",
    "    "
   ]
  },
  {
   "cell_type": "code",
   "execution_count": 8,
   "id": "820818bf-dd06-41ea-b5fa-cb674fc26874",
   "metadata": {},
   "outputs": [
    {
     "name": "stdout",
     "output_type": "stream",
     "text": [
      "Animal speaks\n",
      "Dog barks!\n"
     ]
    }
   ],
   "source": [
    "# 5. What is inheritance? Give an example for each type of inheritance.\n",
    "# '''{Inheritance is a fundamental concept in object-oriented programming (OOP) that allows \n",
    "#  a new class (subclass or derived class) to inherit properties and behaviors from an existing\n",
    "#  class (base class or superclass). This promotes code reuse and facilitates the creation of a\n",
    "#  hierarchy of classes with shared characteristics.}'''\n",
    "\n",
    "# Types of Inheritances:\n",
    "# 1.Single inheritance\n",
    "class Animal:\n",
    "    def speak(self):\n",
    "        print(\"Animal speaks\")\n",
    "\n",
    "class Dog(Animal):  \n",
    "    def bark(self):\n",
    "        print(\"Dog barks!\")\n",
    "d=Dog() \n",
    "d.speak() \n",
    "d.bark() \n"
   ]
  },
  {
   "cell_type": "code",
   "execution_count": 2,
   "id": "0c8fd9dd-393b-433b-a492-196767317350",
   "metadata": {},
   "outputs": [
    {
     "name": "stdout",
     "output_type": "stream",
     "text": [
      "Thor is a superhero in MCU \n",
      "Thor is a mythologial character\n"
     ]
    }
   ],
   "source": [
    "# 2. Mutliple Inheritance\n",
    "class marvel:\n",
    "    def marvel_info(self):\n",
    "        print(\"Thor is a superhero in MCU \")\n",
    "\n",
    "class myth:\n",
    "    def myth_info(self):\n",
    "        print(\"Thor is a mythologial character\")\n",
    "\n",
    "class Thor(marvel, myth):  # mulitple inheritance \n",
    "    pass\n",
    "\n",
    "# create an object of thor class\n",
    "b1 = Thor()\n",
    "\n",
    "b1.marvel_info()\n",
    "b1.myth_info()"
   ]
  },
  {
   "cell_type": "code",
   "execution_count": 4,
   "id": "536ee7fc-c02a-42fd-9c97-12d37c186535",
   "metadata": {},
   "outputs": [
    {
     "name": "stdout",
     "output_type": "stream",
     "text": [
      "There are various cold drinks popular nowadays\n",
      "People like tea and coffee as hot beverages\n",
      "A beverage includes all types of edible drinks\n"
     ]
    }
   ],
   "source": [
    "# 3. Multilevel Inheritance\n",
    "        \n",
    "class hot_drinks:\n",
    "    def hot(self):\n",
    "        print(\"People like tea and coffee as hot beverages\")\n",
    "\n",
    "class cold_drinks(hot_drinks): # inheriting from hot_drinks\n",
    "    def cold(self):\n",
    "        print(\"There are various cold drinks popular nowadays\")\n",
    "        \n",
    "class drink(cold_drinks): # inheriting from cold_drinks\n",
    "    def drinking(self):\n",
    "        print(\"A beverage includes all types of edible drinks\")\n",
    "\n",
    "beverage= drink()\n",
    "beverage.cold() \n",
    "beverage.hot()\n",
    "beverage.drinking()"
   ]
  },
  {
   "cell_type": "code",
   "execution_count": 34,
   "id": "3f1803c9-213a-4370-ba3f-99e08a4b3bb3",
   "metadata": {},
   "outputs": [
    {
     "name": "stdout",
     "output_type": "stream",
     "text": [
      "Mammals are one of the biggest class of organism example being humans,dogs,cats etc..\n",
      "wolfs are born predator and belong to dog family\n",
      "Huskies are wolf like looing dog, playful in nature\n"
     ]
    }
   ],
   "source": [
    "# 4. Hybrid Inheritance \n",
    "class mammals:\n",
    "    def mammals(self):\n",
    "        print(\"Mammals are one of the biggest class of organism example being humans,dogs,cats etc..\")\n",
    "        \n",
    "class cats(mammals):\n",
    "    def cat(self):\n",
    "        print('Cats are playful in nature and are born predator')\n",
    "        \n",
    "class dogs(mammals):\n",
    "    def dog(self):\n",
    "        print('Dogs have good senses and they bark')\n",
    "        \n",
    "class wolfs(dogs):\n",
    "    def wolf(self):\n",
    "        print(\"wolfs are born predator and belong to dog family\")\n",
    "        \n",
    "class labrador(dogs,cats):\n",
    "    def lab(self):\n",
    "        print('Labrador are playful in nature and they have good senses')\n",
    "        \n",
    "class huskies(wolfs,cats):\n",
    "    def husky(self):\n",
    "        print('Huskies are wolf like looing dog, playful in nature')\n",
    "        \n",
    "s_husky=huskies()\n",
    "s_husky.mammals()\n",
    "s_husky.wolf()\n",
    "s_husky.husky()"
   ]
  },
  {
   "cell_type": "code",
   "execution_count": null,
   "id": "6643e77e-0b38-4813-9bc3-b8df65cf1b4a",
   "metadata": {},
   "outputs": [],
   "source": [
    "# 5. Hierachial Inheritance \n",
    "class Animal:\n",
    "    def speak(self):\n",
    "        print(\"Animal speaks\")\n",
    "\n",
    "class Dog(Animal):\n",
    "    def bark(self):\n",
    "        print(\"Dog barks\")\n",
    "\n",
    "class Cat(Animal):\n",
    "    def meow(self):\n",
    "        print(\"Cat meows\")\n",
    "\n",
    "\n",
    "dog_instance = Dog()\n",
    "cat_instance = Cat()\n",
    "\n",
    "\n",
    "dog_instance.speak()  \n",
    "dog_instance.bark()  \n",
    "\n",
    "cat_instance.speak()  \n",
    "cat_instance.meow()  \n"
   ]
  },
  {
   "cell_type": "code",
   "execution_count": null,
   "id": "201adbbd-81e3-4121-bb44-2134208c2781",
   "metadata": {},
   "outputs": [],
   "source": []
  }
 ],
 "metadata": {
  "kernelspec": {
   "display_name": "Python 3 (ipykernel)",
   "language": "python",
   "name": "python3"
  },
  "language_info": {
   "codemirror_mode": {
    "name": "ipython",
    "version": 3
   },
   "file_extension": ".py",
   "mimetype": "text/x-python",
   "name": "python",
   "nbconvert_exporter": "python",
   "pygments_lexer": "ipython3",
   "version": "3.10.8"
  }
 },
 "nbformat": 4,
 "nbformat_minor": 5
}
